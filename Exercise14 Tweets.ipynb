{
 "metadata": {
  "name": "",
  "signature": "sha256:8edbb5a75c711e88f844f1204986487db72c888c3c41aae17a12627741b991d1"
 },
 "nbformat": 3,
 "nbformat_minor": 0,
 "worksheets": [
  {
   "cells": [
    {
     "cell_type": "heading",
     "level": 1,
     "metadata": {},
     "source": [
      "Exercise 14, Mapping harvested Tweets"
     ]
    },
    {
     "cell_type": "heading",
     "level": 5,
     "metadata": {},
     "source": [
      "Team: Kraftfahrzeug-Haftpflichtversicherung\n",
      "Authors: Bettina Felten, Sophie C. Stuhler    \n",
      "Date: 26-01-2017"
     ]
    },
    {
     "cell_type": "code",
     "collapsed": false,
     "input": [
      "\n",
      "from twython import Twython\n",
      "import json\n",
      "import folium\n",
      "import re\n",
      "\n",
      "\n",
      "\n",
      "def twitter_map_locations(criterion, location = None, count = 1000):\n",
      "    # This function creates an html map from tweets\n",
      "    # criterion matching tweet\n",
      "    # location as (lat_float, lon_float, searchradius_string)\n",
      "    # number of tweets to look at\n",
      "    \n",
      "    # is location is given, then use it for searching in radius\n",
      "    if location != None:\n",
      "        search_results = twitter.search(q = criterion, count = count, geocode = location)\n",
      "        radius_str = location[-1]   # radius is stored as string in last element\n",
      "        radius_nokm = re.findall('\\d+', radius_str) # find only digits, remove km, returned as list\n",
      "        radius = int(radius_nokm[0])    # therefore take this element\n",
      "        if radius < 100:\n",
      "            zoom = 6\n",
      "        else:\n",
      "            zoom = 3\n",
      "    else:\n",
      "        search_results = twitter.search(q=criterion, count=count)   # no location, just search\n",
      "        zoom = 1        # zoom level maximum\n",
      "    \n",
      "    \n",
      "    map_osm = folium.Map(location=[0, 0], zoom_start=zoom)  # center to origin\n",
      "    \n",
      "    \n",
      "    ##parsing out \n",
      "    for tweet in search_results[\"statuses\"]:\n",
      "        tweet_text = tweet['text']\n",
      "        coordinates = tweet['coordinates']\n",
      "        if coordinates != None:\n",
      "            actual_coordinates = coordinates['coordinates'] # coordinates are lat, lon\n",
      "            actual_lon_lat = actual_coordinates.reverse() # for marker elements use lon, lat\n",
      "            folium.Marker(actual_coordinates, popup = tweet_text).add_to(map_osm)   # set marker with tweet text\n",
      "         \n",
      "       \n",
      "    map_osm.save(criterion+'.html')  # save map as criterion\n",
      "    \n",
      "\n",
      "locations_list = {'Amsterdam': [52.37403, 4.88969],\n",
      "    'Wageningen': [51.97, 5.66667],\n",
      "    'New York': [40.71427, -74.00597],\n",
      "    'Berlin': [52.52437, 13.41053],\n",
      "    }\n",
      "    \n",
      "loc = locations_list['Wageningen']\n",
      "loc.append('100km')\n",
      "if __name__ == '__main__':\n",
      "    twitter_map_locations('traffic+jam', loc)\n",
      "    twitter_map_locations('coffee', count = 5000)"
     ],
     "language": "python",
     "metadata": {},
     "outputs": [
      {
       "output_type": "stream",
       "stream": "stdout",
       "text": [
        "AAAAAAAAAAAAAAAAAAAAABivywAAAAAA0JDoKBXbghAuzOJCtuuQ8IOWTkA%3DYI9kjRbmvBBHmmZODLEPBcTX9EMbsorlreixQ5xHWHIRc5WZLy\n"
       ]
      }
     ],
     "prompt_number": 1
    },
    {
     "cell_type": "code",
     "collapsed": false,
     "input": [],
     "language": "python",
     "metadata": {},
     "outputs": []
    }
   ],
   "metadata": {}
  }
 ]
}
